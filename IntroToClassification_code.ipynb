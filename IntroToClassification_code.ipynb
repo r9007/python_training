{
  "cells": [
    {
      "cell_type": "markdown",
      "metadata": {
        "id": "view-in-github",
        "colab_type": "text"
      },
      "source": [
        "<a href=\"https://colab.research.google.com/github/r9007/python_training/blob/main/IntroToClassification_code.ipynb\" target=\"_parent\"><img src=\"https://colab.research.google.com/assets/colab-badge.svg\" alt=\"Open In Colab\"/></a>"
      ]
    },
    {
      "cell_type": "code",
      "execution_count": null,
      "id": "3f182b80",
      "metadata": {
        "id": "3f182b80"
      },
      "outputs": [],
      "source": [
        "#######################################################\n",
        "#######################################################\n",
        "############    COPYRIGHT - DATA SOCIETY   ############\n",
        "#######################################################\n",
        "#######################################################\n",
        "\n",
        "## 1 INTROTOCLASSIFICATION/KNN/INTROTOCLASSIFICATION KNN 2 ##\n",
        "\n",
        "## NOTE: To run individual pieces of code, select the line of code and\n",
        "##       press ctrl + enter for PCs or command + enter for Macs\n",
        "\n",
        "\n"
      ]
    },
    {
      "cell_type": "code",
      "execution_count": null,
      "id": "51e60db8",
      "metadata": {
        "id": "51e60db8"
      },
      "outputs": [],
      "source": [
        "#=================================================-\n",
        "#### Slide 4: Loading packages  ####\n",
        "\n",
        "import os\n",
        "import pandas as pd\n",
        "import numpy as np\n",
        "import matplotlib.pyplot as plt\n",
        "from pathlib import Path\n",
        "\n",
        "# We will introduce it when we use it\n",
        "import pickle\n",
        "from sklearn.model_selection import train_test_split\n",
        "from sklearn.neighbors import KNeighborsClassifier\n",
        "from sklearn.preprocessing import scale,StandardScaler\n",
        "from sklearn.pipeline import Pipeline\n",
        "from sklearn.model_selection import cross_val_score\n",
        "from sklearn.model_selection import GridSearchCV\n",
        "from sklearn.metrics import accuracy_score, classification_report, confusion_matrix\n",
        "from sklearn import metrics\n",
        "\n",
        "\n"
      ]
    },
    {
      "cell_type": "code",
      "execution_count": null,
      "id": "2be81936",
      "metadata": {
        "id": "2be81936"
      },
      "outputs": [],
      "source": [
        "#=================================================-\n",
        "#### Slide 5: Directory settings  ####\n",
        "\n",
        "# Set 'main_dir' to location of the project folder\n",
        "home_dir = Path(\".\").resolve()\n",
        "main_dir = home_dir.parent.parent\n",
        "print(main_dir)\n",
        "data_dir = str(main_dir) + \"/data\"\n",
        "print(data_dir)\n",
        "\n",
        "\n"
      ]
    },
    {
      "cell_type": "code",
      "execution_count": null,
      "id": "a46819de",
      "metadata": {
        "id": "a46819de"
      },
      "outputs": [],
      "source": [
        "#=================================================-\n",
        "#### Slide 6: Load data into Python  ####\n",
        "\n",
        "df = pd.read_csv(str(data_dir)+\"/\"+ 'healthcare-dataset-stroke-data.csv')\n",
        "print(df.head())\n",
        "\n",
        "\n"
      ]
    },
    {
      "cell_type": "code",
      "execution_count": null,
      "id": "d4240dbe",
      "metadata": {
        "id": "d4240dbe"
      },
      "outputs": [],
      "source": [
        "#=================================================-\n",
        "#### Slide 7: Subset data  ####\n",
        "\n",
        "df = df[['age', 'avg_glucose_level', 'heart_disease', 'ever_married', 'hypertension', 'Residence_type', 'gender', 'smoking_status', 'work_type', 'stroke', 'id']]\n",
        "print(df.head())\n",
        "\n",
        "\n"
      ]
    },
    {
      "cell_type": "code",
      "execution_count": null,
      "id": "5db81970",
      "metadata": {
        "id": "5db81970"
      },
      "outputs": [],
      "source": [
        "#=================================================-\n",
        "#### Slide 8: Convert target to binary  ####\n",
        "\n",
        "# Target not binary - calculate the mean and assign the above mean to 1 and below to 0\n",
        "threshold = np.mean(df['stroke'])\n",
        "df['stroke'] = np.where(df['stroke'] > threshold, 1,0)\n",
        "# Target is binary\n",
        "print(df['stroke'])\n",
        "\n",
        "\n"
      ]
    },
    {
      "cell_type": "code",
      "execution_count": null,
      "id": "bb82c82e",
      "metadata": {
        "id": "bb82c82e"
      },
      "outputs": [],
      "source": [
        "#=================================================-\n",
        "#### Slide 11: The data at first glance  ####\n",
        "\n",
        "# The first 3 rows.\n",
        "print(df.head(3))\n",
        "# The data types.\n",
        "print(df.dtypes)\n",
        "print(df['stroke'].value_counts())\n",
        "\n",
        "\n"
      ]
    },
    {
      "cell_type": "code",
      "execution_count": null,
      "id": "f821a84b",
      "metadata": {
        "id": "f821a84b"
      },
      "outputs": [],
      "source": [
        "#=================================================-\n",
        "#### Slide 12: Data prep: check for NAs  ####\n",
        "\n",
        " # Check for NAs.\n",
        "print(df.isnull().sum())\n",
        "\n",
        "\n"
      ]
    },
    {
      "cell_type": "code",
      "execution_count": null,
      "id": "450dc7b5",
      "metadata": {
        "id": "450dc7b5"
      },
      "outputs": [],
      "source": [
        "#=================================================-\n",
        "#### Slide 13: Data prep: check for NAs  ####\n",
        "\n",
        "percent_missing = df.isnull().sum() * 100 / len(df)\n",
        "print(percent_missing)\n",
        "\n",
        "\n"
      ]
    },
    {
      "cell_type": "code",
      "execution_count": null,
      "id": "4bfc7b1a",
      "metadata": {
        "id": "4bfc7b1a"
      },
      "outputs": [],
      "source": [
        "#=================================================-\n",
        "#### Slide 14: Data prep: check for NAs  ####\n",
        "\n",
        "# Delete columns containing either 50% or more than 50% NaN Values\n",
        "perc = 50.0\n",
        "min_count =  int(((100-perc)/100)*df.shape[0] + 1)\n",
        "df = df.dropna(axis=1,\n",
        "               thresh=min_count)\n",
        "print(df.shape)\n",
        "# Function to impute NA in both numeric and categorical columns\n",
        "def fillna(df):\n",
        "    numerics = ['int16', 'int32', 'int64', 'float16', 'float32', 'float64']\n",
        "    df_numeric = df.select_dtypes(include=numerics)\n",
        "    df_non_numeric = df.select_dtypes(exclude=numerics)\n",
        "\n",
        "    df_numeric = df_numeric.fillna(df_numeric.mean())\n",
        "\n",
        "    for column in df_non_numeric.columns:\n",
        "        df_non_numeric[column].fillna(df_non_numeric[column].mode()[0], inplace=True)\n",
        "\n",
        "    df = pd.concat([df_numeric, df_non_numeric], axis=1)\n",
        "    return df\n",
        "df = fillna(df)\n",
        "\n",
        "\n"
      ]
    },
    {
      "cell_type": "code",
      "execution_count": null,
      "id": "e1cec9b8",
      "metadata": {
        "id": "e1cec9b8"
      },
      "outputs": [],
      "source": [
        "#=================================================-\n",
        "#### Slide 15: Data prep: ready for kNN  ####\n",
        "\n",
        "print(df['stroke'].dtypes)\n",
        "# Identify the the two unique classes\n",
        "unique_values = sorted(df['stroke'].unique())\n",
        "df['stroke'] = np.where(df['stroke'] == unique_values[0], False,True)\n",
        "# Split the data into X and y\n",
        "columns_to_drop_from_X = ['stroke'] + ['id']\n",
        "X = df.drop(columns_to_drop_from_X, axis = 1)\n",
        "y = np.array(df['stroke'])\n",
        "\n",
        "\n"
      ]
    },
    {
      "cell_type": "code",
      "execution_count": null,
      "id": "ddb82c8f",
      "metadata": {
        "id": "ddb82c8f"
      },
      "outputs": [],
      "source": [
        "#=================================================-\n",
        "#### Slide 16: Data prep: numeric variables  ####\n",
        "\n",
        "print(X.dtypes)\n",
        "X = pd.get_dummies(X, columns = ['heart_disease', 'ever_married', 'hypertension', 'Residence_type', 'gender', 'smoking_status', 'work_type'], dtype=float, drop_first=True)\n",
        "print(X.dtypes)\n",
        "\n",
        "\n"
      ]
    },
    {
      "cell_type": "code",
      "execution_count": null,
      "id": "c1febd2c",
      "metadata": {
        "id": "c1febd2c"
      },
      "outputs": [],
      "source": [
        "#=================================================-\n",
        "#### Slide 22: Train and test: small scale before n-fold  ####\n",
        "\n",
        "# Set the seed.\n",
        "np.random.seed(1)\n",
        "\n",
        "# Split into train and test.\n",
        "X_train, X_test, y_train, y_test = train_test_split(X,\n",
        "                                                    y,\n",
        "                                                    test_size = 0.3)\n",
        "\n",
        "\n",
        "\n"
      ]
    },
    {
      "cell_type": "code",
      "execution_count": null,
      "id": "8d69a59f",
      "metadata": {
        "id": "8d69a59f"
      },
      "outputs": [],
      "source": [
        "#=================================================-\n",
        "#### Slide 24: Data prep: scaling variables  ####\n",
        "\n",
        "# Scale X.\n",
        "X_train = scale(X_train)\n",
        "X_test = scale(X_test)\n",
        "print(X_train[0:2])\n",
        "print(X_test[0:2])\n",
        "\n",
        "\n",
        "#######################################################\n",
        "####  CONGRATULATIONS ON COMPLETING THIS MODULE!   ####\n",
        "#######################################################\n"
      ]
    },
    {
      "cell_type": "code",
      "execution_count": null,
      "id": "3bad1e32",
      "metadata": {
        "id": "3bad1e32"
      },
      "outputs": [],
      "source": [
        "#######################################################\n",
        "#######################################################\n",
        "############    COPYRIGHT - DATA SOCIETY   ############\n",
        "#######################################################\n",
        "#######################################################\n",
        "\n",
        "## 1 INTROTOCLASSIFICATION/KNN/INTROTOCLASSIFICATION KNN 3 ##\n",
        "\n",
        "## NOTE: To run individual pieces of code, select the line of code and\n",
        "##       press ctrl + enter for PCs or command + enter for Macs\n",
        "\n",
        "\n"
      ]
    },
    {
      "cell_type": "code",
      "execution_count": null,
      "id": "6a853abc",
      "metadata": {
        "id": "6a853abc"
      },
      "outputs": [],
      "source": [
        "#=================================================-\n",
        "#### Slide 5: kNN: build model  ####\n",
        "\n",
        "# Create kNN classifier.\n",
        "default = 5\n",
        "kNN = KNeighborsClassifier(n_neighbors = default)\n",
        "# Fit the classifier to the data.\n",
        "kNN.fit(X_train, y_train)\n",
        "\n",
        "\n"
      ]
    },
    {
      "cell_type": "code",
      "execution_count": null,
      "id": "1e0358b4",
      "metadata": {
        "id": "1e0358b4"
      },
      "outputs": [],
      "source": [
        "#=================================================-\n",
        "#### Slide 6: kNN: predict on a test set  ####\n",
        "\n",
        "predictions = kNN.predict(X_test)\n",
        "print(predictions[0:5])\n",
        "\n",
        "\n"
      ]
    },
    {
      "cell_type": "code",
      "execution_count": null,
      "id": "2325f310",
      "metadata": {
        "id": "2325f310"
      },
      "outputs": [],
      "source": [
        "#=================================================-\n",
        "#### Slide 7: kNN: predict on test  ####\n",
        "\n",
        "actual_v_predicted = np.column_stack((y_test, predictions))\n",
        "print(actual_v_predicted[0:5])\n",
        "\n",
        "\n"
      ]
    },
    {
      "cell_type": "code",
      "execution_count": null,
      "id": "156e3840",
      "metadata": {
        "id": "156e3840"
      },
      "outputs": [],
      "source": [
        "#=================================================-\n",
        "#### Slide 20: Confusion matrix in python  ####\n",
        "\n",
        "# Confusion matrix for kNN.\n",
        "cm_kNN = confusion_matrix(y_test, predictions)\n",
        "print(cm_kNN)\n",
        "print(round(accuracy_score(y_test, predictions),\n",
        "4))\n",
        "\n",
        "\n"
      ]
    },
    {
      "cell_type": "code",
      "execution_count": null,
      "id": "455e3e50",
      "metadata": {
        "id": "455e3e50"
      },
      "outputs": [],
      "source": [
        "#=================================================-\n",
        "#### Slide 21: Confusion matrix: visualize  ####\n",
        "\n",
        "plt.imshow(cm_kNN, interpolation = 'nearest', cmap = plt.cm.Wistia)\n",
        "classNames = ['Negative', 'Positive']\n",
        "plt.title('Confusion Matrix - Test Data')\n",
        "plt.ylabel('True label')\n",
        "plt.xlabel('Predicted label')\n",
        "tick_marks = np.arange(len(classNames))\n",
        "plt.xticks(tick_marks, classNames, rotation = 45)\n",
        "plt.yticks(tick_marks, classNames)\n",
        "s = [['TN', 'FP'], ['FN', 'TP']]\n",
        "for i in range(2):\n",
        "    for j in range(2):\n",
        "        plt.text(j,i, str(s[i][j]) + \" = \" + str(cm_kNN[i][j]))\n",
        "plt.show()\n",
        "\n",
        "\n"
      ]
    },
    {
      "cell_type": "code",
      "execution_count": null,
      "id": "4125cb90",
      "metadata": {
        "id": "4125cb90"
      },
      "outputs": [],
      "source": [
        "#=================================================-\n",
        "#### Slide 22: Evaluation of kNN with k neighbors  ####\n",
        "\n",
        "# Create a dictionary with accuracy values for our kNN model with k.\n",
        "model_final_dict = {'metrics': [\"accuracy\"],\n",
        "                    'values':[round(accuracy_score(y_test, predictions), 4)],\n",
        "                    'model':['kNN_k']}\n",
        "model_final = pd.DataFrame(data = model_final_dict)\n",
        "print(model_final)\n",
        "\n",
        "\n"
      ]
    },
    {
      "cell_type": "code",
      "execution_count": null,
      "id": "a0b53e81",
      "metadata": {
        "id": "a0b53e81"
      },
      "outputs": [],
      "source": [
        "#=================================================-\n",
        "#### Slide 26: Plot ROC and calculate AUC  ####\n",
        "\n",
        "# Store FPR, TPR, and threshold as variables.\n",
        "fpr, tpr, threshold = metrics.roc_curve(y_test, predictions)\n",
        "# Store the AUC.\n",
        "roc_auc = metrics.auc(fpr, tpr)\n",
        "plt.title('Receiver Operating Characteristic')\n",
        "plt.plot(fpr, tpr, 'b', label = 'AUC = %0.2f' % roc_auc)\n",
        "plt.legend(loc = 'lower right')\n",
        "plt.plot([0, 1], [0, 1],'r--')\n",
        "plt.xlim([0, 1])\n",
        "plt.ylim([0, 1])\n",
        "plt.ylabel('True Positive Rate')\n",
        "plt.xlabel('False Positive Rate')\n",
        "plt.show()\n",
        "\n",
        "\n",
        "#######################################################\n",
        "####  CONGRATULATIONS ON COMPLETING THIS MODULE!   ####\n",
        "#######################################################\n"
      ]
    },
    {
      "cell_type": "code",
      "execution_count": null,
      "id": "7249dd88",
      "metadata": {
        "id": "7249dd88"
      },
      "outputs": [],
      "source": [
        "#######################################################\n",
        "#######################################################\n",
        "############    COPYRIGHT - DATA SOCIETY   ############\n",
        "#######################################################\n",
        "#######################################################\n",
        "\n",
        "## 1 INTROTOCLASSIFICATION/KNN/INTROTOCLASSIFICATION KNN 4 ##\n",
        "\n",
        "## NOTE: To run individual pieces of code, select the line of code and\n",
        "##       press ctrl + enter for PCs or command + enter for Macs\n",
        "\n",
        "\n"
      ]
    },
    {
      "cell_type": "code",
      "execution_count": null,
      "id": "c41b96d2",
      "metadata": {
        "id": "c41b96d2"
      },
      "outputs": [],
      "source": [
        "#=================================================-\n",
        "#### Slide 6: Cross-validation pipeline for optimal accuracy  ####\n",
        "\n",
        "# Create a pipeline of the scaler and Estimator\n",
        "cv_pipeline = Pipeline([('transformer',  StandardScaler()), ('estimator', kNN)])\n",
        "\n",
        "\n"
      ]
    },
    {
      "cell_type": "code",
      "execution_count": null,
      "id": "0c55ef67",
      "metadata": {
        "id": "0c55ef67"
      },
      "outputs": [],
      "source": [
        "#=================================================-\n",
        "#### Slide 7: Cross-validation for optimal accuracy  ####\n",
        "\n",
        "# Calculate cv scores\n",
        "cv_scores = cross_val_score(cv_pipeline, X, y, cv = 5)\n",
        "\n",
        "\n"
      ]
    },
    {
      "cell_type": "code",
      "execution_count": null,
      "id": "6ffcdc33",
      "metadata": {
        "id": "6ffcdc33"
      },
      "outputs": [],
      "source": [
        "#=================================================-\n",
        "#### Slide 8: Cross-validation for optimal accuracy  ####\n",
        "\n",
        "# Print each cv score (accuracy) and average them.\n",
        "print(cv_scores)\n",
        "print(\"cv_scores mean:{}\".format(np.mean(cv_scores)))\n",
        "mean = np.mean(cv_scores)\n",
        "print(\"Optimal cv score is:\", round(mean, 4))\n",
        "\n",
        "\n",
        "#######################################################\n",
        "####  CONGRATULATIONS ON COMPLETING THIS MODULE!   ####\n",
        "#######################################################\n"
      ]
    },
    {
      "cell_type": "code",
      "execution_count": null,
      "id": "cba137ec",
      "metadata": {
        "id": "cba137ec"
      },
      "outputs": [],
      "source": [
        "#######################################################\n",
        "#######################################################\n",
        "############    COPYRIGHT - DATA SOCIETY   ############\n",
        "#######################################################\n",
        "#######################################################\n",
        "\n",
        "## 1 INTROTOCLASSIFICATION/KNN/INTROTOCLASSIFICATION KNN 5 ##\n",
        "\n",
        "## NOTE: To run individual pieces of code, select the line of code and\n",
        "##       press ctrl + enter for PCs or command + enter for Macs\n",
        "\n",
        "\n"
      ]
    },
    {
      "cell_type": "code",
      "execution_count": null,
      "id": "4ffca816",
      "metadata": {
        "id": "4ffca816"
      },
      "outputs": [],
      "source": [
        "#=================================================-\n",
        "#### Slide 5: Finding optimal k - GridSearchCV  ####\n",
        "\n",
        "# Define the parameter values that should be searched.\n",
        "k_range = list(range(1, 31))\n",
        "\n",
        "# Create a parameter grid: map the parameter names to the values that should be searched by building a Python dictionary.\n",
        "# key: parameter name\n",
        "# value: list of values that should be searched for that parameter\n",
        "# single key-value pair for param_grid\n",
        "param_grid = dict(n_neighbors = k_range)\n",
        "print(param_grid)\n",
        "\n",
        "# Instantiate the grid using our original model - kNN with k.\n",
        "grid = GridSearchCV(kNN, param_grid, cv = 10, scoring = 'accuracy')\n",
        "\n",
        "\n",
        "\n"
      ]
    },
    {
      "cell_type": "code",
      "execution_count": null,
      "id": "dba264b3",
      "metadata": {
        "id": "dba264b3"
      },
      "outputs": [],
      "source": [
        "#=================================================-\n",
        "#### Slide 6: Finding optimal k - GridSearchCV  ####\n",
        "\n",
        "# Create a pipeline of the scaler and gridsearch\n",
        "grid_search_pipeline = Pipeline([('transformer',  StandardScaler()), ('estimator', grid)])\n",
        "\n",
        "# Fit Gridsearch pipeline\n",
        "grid_search_pipeline.fit(X, y)\n",
        "\n",
        "\n"
      ]
    },
    {
      "cell_type": "code",
      "execution_count": null,
      "id": "4d8ec009",
      "metadata": {
        "id": "4d8ec009"
      },
      "outputs": [],
      "source": [
        "#=================================================-\n",
        "#### Slide 7: Finding optimal k - view results  ####\n",
        "\n",
        "# View the complete results (list of named tuples).\n",
        "print(grid.cv_results_['mean_test_score'])\n",
        "\n",
        "\n"
      ]
    },
    {
      "cell_type": "code",
      "execution_count": null,
      "id": "6debf65a",
      "metadata": {
        "id": "6debf65a"
      },
      "outputs": [],
      "source": [
        "#=================================================-\n",
        "#### Slide 8: Finding optimal k  ####\n",
        "\n",
        "# Create a list of the mean scores only by using a list comprehension to loop through grid.cv_results_.\n",
        "grid_mean_scores = [result for result in grid.cv_results_['mean_test_score']]\n",
        "print(grid_mean_scores)\n",
        "\n",
        "\n"
      ]
    },
    {
      "cell_type": "code",
      "execution_count": null,
      "id": "c27dc096",
      "metadata": {
        "id": "c27dc096"
      },
      "outputs": [],
      "source": [
        "#=================================================-\n",
        "#### Slide 9: Finding optimal k - plot  ####\n",
        "\n",
        "# Plot the results.\n",
        "_ = plt.plot(k_range, grid_mean_scores)\n",
        "_ = plt.xlabel('Value of K for kNN')\n",
        "_ = plt.ylabel('Cross-Validated Accuracy')\n",
        "plt.show()\n",
        "\n",
        "\n"
      ]
    },
    {
      "cell_type": "code",
      "execution_count": null,
      "id": "169f93e9",
      "metadata": {
        "id": "169f93e9"
      },
      "outputs": [],
      "source": [
        "#=================================================-\n",
        "#### Slide 10: Define and examine the optimized model   ####\n",
        "\n",
        "# Single best score achieved across all params (k).\n",
        "print(grid.best_score_)\n",
        "grid_score = grid.best_score_\n",
        "\n",
        "# Dictionary containing the parameters (k) used to generate that score.\n",
        "print(grid.best_params_)\n",
        "\n",
        "# Actual model object fit with those best parameters.\n",
        "# Shows default parameters that we did not specify.\n",
        "print(grid.best_estimator_)\n",
        "\n",
        "\n",
        "\n"
      ]
    },
    {
      "cell_type": "code",
      "execution_count": null,
      "id": "2a4563d1",
      "metadata": {
        "id": "2a4563d1"
      },
      "outputs": [],
      "source": [
        "#=================================================-\n",
        "#### Slide 11: Add GridSearchCV score to the final scores  ####\n",
        "\n",
        "new_row = pd.DataFrame({'metrics' : [\"accuracy\"],\n",
        "                        'values' : [round(grid_score, 4)],\n",
        "                        'model': ['kNN_GridSearchCV']})\n",
        "model_final = pd.concat([model_final, new_row], ignore_index=True)\n",
        "\n",
        "print(model_final)\n",
        "\n",
        "\n"
      ]
    },
    {
      "cell_type": "code",
      "execution_count": null,
      "id": "705157dd",
      "metadata": {
        "id": "705157dd"
      },
      "outputs": [],
      "source": [
        "#=================================================-\n",
        "#### Slide 12: Optimal model and final thoughts  ####\n",
        "\n",
        "kNN_best = grid.best_estimator_\n",
        "\n",
        "# Check accuracy of our model on the test data.\n",
        "print(kNN_best.score(X_test, y_test))\n",
        "kNN_champ = kNN_best.score(X_test, y_test)\n",
        "\n",
        "\n"
      ]
    },
    {
      "cell_type": "code",
      "execution_count": null,
      "id": "2ea79dff",
      "metadata": {
        "id": "2ea79dff"
      },
      "outputs": [],
      "source": [
        "#=================================================-\n",
        "#### Slide 14: Final Model   ####\n",
        "\n",
        "# Save this final model\n",
        "model_final = {'metrics' : \"accuracy\" ,\n",
        "                                  'values' : round(kNN_champ, 4),\n",
        "                                  'model':'kNN_optimized' }\n",
        "print(model_final)\n",
        "pickle.dump(model_final, open(str(data_dir)+\"/\"+\"model_final.sav\", 'wb'))\n",
        "\n",
        "\n"
      ]
    },
    {
      "cell_type": "code",
      "execution_count": null,
      "id": "7846e223",
      "metadata": {
        "id": "7846e223"
      },
      "outputs": [],
      "source": [
        "#=================================================-\n",
        "#### Slide 18: Exercise  ####\n",
        "\n",
        "\n",
        "\n",
        "\n",
        "#######################################################\n",
        "####  CONGRATULATIONS ON COMPLETING THIS MODULE!   ####\n",
        "#######################################################\n"
      ]
    }
  ],
  "metadata": {
    "language": "python",
    "colab": {
      "provenance": [],
      "include_colab_link": true
    }
  },
  "nbformat": 4,
  "nbformat_minor": 5
}