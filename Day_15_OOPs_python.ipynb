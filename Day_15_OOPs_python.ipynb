{
  "nbformat": 4,
  "nbformat_minor": 0,
  "metadata": {
    "colab": {
      "provenance": []
    },
    "kernelspec": {
      "name": "python3",
      "display_name": "Python 3"
    },
    "language_info": {
      "name": "python"
    }
  },
  "cells": [
    {
      "cell_type": "code",
      "execution_count": null,
      "metadata": {
        "id": "LynczderHEfx",
        "outputId": "df0f14c6-5a2c-47cd-bb54-15f6b7ee79e3",
        "colab": {
          "base_uri": "https://localhost:8080/"
        }
      },
      "outputs": [
        {
          "output_type": "stream",
          "name": "stdout",
          "text": [
            "Enter a number: 13\n",
            "Enter a number: 67\n",
            "Enter a number: 88\n",
            "Enter a number: 90\n",
            "80\n",
            "-54\n",
            "871\n",
            "0.19402985074626866\n",
            "178\n",
            "-2\n",
            "7920\n",
            "0.9777777777777777\n"
          ]
        }
      ],
      "source": [
        "# Class definition- class Class_name:\n",
        "class Calculator:\n",
        "\n",
        "  # methods/behaviour\n",
        "\n",
        "  def __init__(self):\n",
        "    self.n1=0\n",
        "    self.n2=0\n",
        "    self.res=0\n",
        "\n",
        "  def get_data(self):\n",
        "    self.n1 = int(input('Enter a number: '))\n",
        "    self.n2 = int(input('Enter a number: '))\n",
        "\n",
        "  def add(self):\n",
        "    self.res = self.n1+self.n2\n",
        "    print(self.res)\n",
        "\n",
        "  def sub(self):\n",
        "    self.res = self.n1 - self.n2\n",
        "    print(self.res)\n",
        "\n",
        "  def mul(self):\n",
        "    self.res = self.n1 * self.n2\n",
        "    print(self.res)\n",
        "\n",
        "  def div(self):\n",
        "    self.res = self.n1 / self.n2\n",
        "    print(self.res)\n",
        "\n",
        "obj1 = Calculator()  # object creation\n",
        "obj2 = Calculator()  # object creation\n",
        "\n",
        "obj1.get_data()\n",
        "obj2.get_data()\n",
        "\n",
        "obj1.add()\n",
        "obj1.sub()\n",
        "obj1.mul()\n",
        "obj1.div()\n",
        "\n",
        "obj2.add()\n",
        "obj2.sub()\n",
        "obj2.mul()\n",
        "obj2.div()"
      ]
    },
    {
      "cell_type": "code",
      "source": [
        "class Student:\n",
        "\n",
        "  student_count = 0 ## class variable\n",
        "  college_name = 'IIT'\n",
        "\n",
        "  def __init__(self,name,age,college_name = 'IIT'):\n",
        "    self.name = name      ## instance variable\n",
        "    self.age = age\n",
        "    Student.student_count += 1\n",
        "    self.college_name = college_name\n",
        "    print(Student.student_count)\n",
        "\n",
        "  def display(self):\n",
        "    print(self.name,self.age, Student.college_name,self.college_name)\n",
        "\n",
        "s1 = Student('A',20)\n",
        "s1.display()\n",
        "s2 = Student('B',19,'UVCE')\n",
        "s2.display()\n",
        "s3 = Student('C',19)\n",
        "s3.display()"
      ],
      "metadata": {
        "id": "FbdAvBj4GJr4",
        "outputId": "7ababb3e-6404-4631-dfb8-759b34b7efed",
        "colab": {
          "base_uri": "https://localhost:8080/"
        }
      },
      "execution_count": 1,
      "outputs": [
        {
          "output_type": "stream",
          "name": "stdout",
          "text": [
            "1\n",
            "A 20 IIT IIT\n",
            "2\n",
            "B 19 IIT UVCE\n",
            "3\n",
            "C 19 IIT IIT\n"
          ]
        }
      ]
    }
  ]
}